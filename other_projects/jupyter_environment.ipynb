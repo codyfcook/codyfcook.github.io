{
 "cells": [
  {
   "cell_type": "markdown",
   "metadata": {},
   "source": [
    "# Jupyter on remote servers "
   ]
  },
  {
   "cell_type": "markdown",
   "metadata": {},
   "source": [
    "This guide describes how to set up a Python 2 and 3 environment and a Jupyter kernel on a remote server. Please reach out to me with any suggestions or issues! My email is codycook@stanford.edu\n",
    "\n",
    "I have run code almost exclusively on a Jupyter kernel set up on a remote server for nearly 4 years, both while working at Uber and now at Stanford. The benefits over running anything locally are substantial: instead of overwhelming my laptop, everything is done remotely. With most large datasets it will be truly impossible to run code locally due to memory constraints. \n",
    "\n",
    "First, we need a good Python environment manager"
   ]
  },
  {
   "cell_type": "markdown",
   "metadata": {},
   "source": [
    "# Managing environments with pyenv"
   ]
  },
  {
   "cell_type": "markdown",
   "metadata": {},
   "source": [
    "Follow the instructions [here](https://github.com/pyenv/pyenv) to install `pyenv`, `pyenv-virtualenv`, and `pyenv-virtualenvwrapper` \n",
    "\n",
    "The following commands should all be run from the remote server. Importantly, you do not need root access for any of them. There is a chance, however, that a package will require some library dependency that you cannot install yourself and will need to ask a root user (e.g., your university IT department). \n",
    "\n",
    "Setup directories and add code to your `.bashrc` for starting pyenv on launch\n",
    "\n",
    "```shell\n",
    "# Change directory names if desired\n",
    "mkdir ~/.ve\n",
    "mkdir ~/workspace\n",
    "echo 'export WORKON_HOME=~/.ve' >> ~/.bashrc\n",
    "echo 'export PROJECT_HOME=~/workspace' >> ~/.bashrc\n",
    "echo 'eval \"$(pyenv init -)\"' >> ~/.bashrc\n",
    "```\n",
    "\n",
    "Install the latest Python 2 and 3 versions\n",
    "\n",
    "```shell\n",
    "pyenv install 3.7.4\n",
    "pyenv install 2.7.13\n",
    "```\n",
    "\n",
    "Setup two virtual environments, one for Python 2 and one for Python 3\n",
    "\n",
    "```shell\n",
    "pyenv virtualenv 3.7.4 jupyter3\n",
    "pyenv virtualenv 2.7.13 ipython2\n",
    "``` \n",
    "\n",
    "Now we will install packages in each of the two virtualenvs. This ensures that our Python 2 and Python 3 environments are separate. Soon, I'll show you how to link them such that they both appear when you launch a Jupyter kernel in the jupyter3 environment. \n",
    "\n",
    "I use a text document `requirements.txt` to track all packages that I want installed automatically. My current one is available [here](https://github.com/codyfcook/nomics/blob/master/requirements.txt). \n",
    "\n",
    "We'll also want to expand Jupyter's capabilities with extensions from `nbextensions`\n",
    "\n",
    "Starting with the jupyter3 environment... \n",
    "\n",
    "```shell\n",
    "pyenv activate jupyter3\n",
    "pip install --upgrade pip \n",
    "pip install jupyter\n",
    "python -m ipykernel install --user \n",
    "pip install -r requirements.txt # make sure this is in the same folder!\n",
    "# jupyter extensions\n",
    "pip install https://github.com/ipython-contrib/jupyter_contrib_nbextensions/tarball/master\n",
    "jupyter contrib nbextension install --user\n",
    "pip install jupyter_nbextensions_configurator\n",
    "jupyter nbextensions_configurator enable --user\n",
    "pyenv deactivate\n",
    "```\n",
    "\n",
    "For the ipython2 environment, we just need to install the appropriate versions of the packages. All the Jupyter goodness will be run from the jupyter3 environment. \n",
    "```shell\n",
    "# install python 2 packages\n",
    "pyenv activate ipython2 \n",
    "pip install --upgrade pip \n",
    "pip install -r requirements.txt\n",
    "pyenv deactivate\n",
    "```\n",
    "\n",
    "As you work and decide you need additional packages, be sure to install them in the appropriate environments. \n",
    "\n",
    "Now we need to make our two environments play nicely with each other. This establishes the PATH priority of the environments. \n",
    "```shell\n",
    "pyenv global 3.7.4 2.7.13 jupyter3 ipython2 \n",
    "```\n",
    "\n",
    "Finally, we want to ensure the virtualenv wrapper starts the moment you login to the server\n",
    "```shell\n",
    "echo 'pyenv virtualenvwrapper_lazy' >> ~/.bashrc\n",
    "exec $SHELL # restart the shell to confirm everything worked\n",
    "```"
   ]
  },
  {
   "cell_type": "markdown",
   "metadata": {},
   "source": [
    "# Launching Jupyter and keeping the lights on with tmux"
   ]
  },
  {
   "cell_type": "markdown",
   "metadata": {},
   "source": [
    "We can now launch Jupyter! Make sure to activate the jupyter3 environment first. Since we're running this on a remote server—with no UI or browser—we need to specify that we don't want Jupyter to try to open a browser link. \n",
    "\n",
    "```shell \n",
    "pyenv activate jupyter3\n",
    "jupyter notebook --no-browser\n",
    "```\n",
    "\n",
    "One issue: if we log out now, our kernel will die. If we want to leave code running overnight, for example, we'd have to leave our local computer on. This would defeat one of the main benefits of using a remote server. \n",
    "\n",
    "Never fear, there's a solution. I use `tmux`, others use an alternative called `screen`. Tmux allows you to open a 'window' on a remote server that will persist once you log out. We want to run Jupyter in that window, so that our kernel never dies and we can always access it, even without logging back in to the server. I recommend [this guide](https://thoughtbot.com/blog/a-tmux-crash-course) for installing and understanding tmux. \n",
    "\n",
    "Once you have tmux installed, we make the following small change to the above code: \n",
    "\n",
    "```shell \n",
    "tmux\n",
    "pyenv activate jupyter3\n",
    "jupyter notebook --no-browser\n",
    "```\n",
    "\n",
    "Now we can log out of the server, but our Jupyter notebook will keep running within the tmux window. \n",
    "\n",
    "When you start the kernel, you want to pay attention to two things. First, the port it's hosted on. It will likely say `localhost:8888`. Second, the access key, which will be some long string of letters and numbers. Copy this somewhere. If you forget either of these, no worries -- you can open this tmux window again in the future and scroll up to find them. \n",
    "\n",
    "To check on the kernel in the future, we can just log into the server and attach that tmux window: \n",
    "```shell\n",
    "tmux ls # list open windows\n",
    "tmux a -t 0 # attach window 0 \n",
    "```"
   ]
  },
  {
   "cell_type": "markdown",
   "metadata": {},
   "source": [
    "# Accessing Jupyter locally"
   ]
  },
  {
   "cell_type": "markdown",
   "metadata": {},
   "source": [
    "Now that we've set up a Jupyter notebook on a remote server, which will persist thanks to running it in tmux, we want to be able to access it in our local browser. \n",
    "\n",
    "To do so, we'll use tunnels to create a, well, tunnel, from our local computer to the server. Tunnels are kind of a pain to manage. But fortunately, there's a nice solution: the [SSH Tunnel Manager](https://www.tynsoe.org/v2/stm/). Install it from that link. \n",
    "\n",
    "Open the Tunnel Manager and click the gear icon to setup a new tunnel. Setup the tunnel to look as follows:\n",
    "\n",
    "<img src=\"images/tunnel_manager.png\" width=\"450\"/>\n",
    "\n",
    "The remote ports should be the port you saw when you started the Jupyter kernel. The local ports will be how we access it now. The only requirement is that these not be in use. The default is usually 8888, but if you are running multiple notebooks on the server then you will need to switch to 8889, etc... for example, in my setup I use 8889 as the local port because 8888 is already in use. \n",
    "\n",
    "Whenever you want to access your remote Jupyter notebook, you'll first just open the tunnel by clicking start. It will prompt for your password and, if necessary, 2-factor authentication. \n",
    "\n",
    "<img src=\"images/tunnel_manager2.png\" width=\"150\"/>\n",
    "\n",
    "In your local browser, go to `localhost:8888` (or whichever port you used for the local connection). You should see a toolbar that looks like this: \n",
    "\n",
    "<img src=\"images/jupyter.png\" width=\"1000\"/>\n",
    "\n",
    "If you click on 'new' on the right, you'll be able to start a new notebook in either Python 2 or Python 3. \n"
   ]
  },
  {
   "cell_type": "markdown",
   "metadata": {},
   "source": [
    "# Bringing it all together\n",
    "\n",
    "Anytime you want to work: \n",
    "1. Make sure you have a Jupyter notebook running remotely. If not, set it up per above. \n",
    "2. Open tunnel manager and start the relevant tunnel \n",
    "3. In your local browser, go to `localhost:8888` (or whichever port you used for the local connection)\n",
    "4. Create some sweet analyses! \n",
    "\n",
    "\n",
    "A few other tips: \n",
    "* If you need to install additional packages, make sure to activate the jupyter3 or ipython2 environment first\n",
    "* Be sure to check out the nbextensions tab! You can access it at `localhost:8888/nbextensions`\n",
    "* If you want to use JupyterLab, just install it while setting up the jupyter3 environment. It will then be available at `localhost:8889/lab`\n",
    "* Use the command `htop` to check on resource usage. If you're using a shared server, be a good citizen and don't overwhelm its resources! \n",
    "* The text editor `vim` is painful to learn, but incredibly powerful once you invest the time. Perhaps that will be my next guide. \n",
    "* Use `git` to manage your code so that it's easy to use your code on many servers (and locally). And backup your data, especially if you don't manage the server you're using -- don't trust that your code and data won't be deleted! \n",
    "* To access files created remotely, either use `scp` or, for an easy UI way, [CyberDuck](https://cyberduck.io). \n"
   ]
  },
  {
   "cell_type": "markdown",
   "metadata": {},
   "source": [
    "# References\n",
    "My setup didn't evolve in a vacuum and I'm thankful to many guide-writers. Here are a few of my favorites\n",
    "* [The definitive guide to setup my Python workspace](https://medium.com/@henriquebastos/the-definitive-guide-to-setup-my-python-workspace-628d68552e14)\n",
    "* [Quick and easy guide to tmux](https://www.hamvocke.com/blog/a-quick-and-easy-guide-to-tmux/)\n",
    "* [Dotfiles are meant to be forked](https://zachholman.com/2010/08/dotfiles-are-meant-to-be-forked/)\n",
    "* [Getting started with vim](https://scotch.io/tutorials/getting-started-with-vim-an-interactive-guide)\n",
    "* [Learn vim for the last time](https://danielmiessler.com/study/vim/)"
   ]
  }
 ],
 "metadata": {
  "kernelspec": {
   "display_name": "Python 3",
   "language": "python",
   "name": "python3"
  },
  "language_info": {
   "codemirror_mode": {
    "name": "ipython",
    "version": 3
   },
   "file_extension": ".py",
   "mimetype": "text/x-python",
   "name": "python",
   "nbconvert_exporter": "python",
   "pygments_lexer": "ipython3",
   "version": "3.7.4"
  },
  "toc": {
   "base_numbering": 1,
   "nav_menu": {},
   "number_sections": false,
   "sideBar": false,
   "skip_h1_title": false,
   "title_cell": "Table of Contents",
   "title_sidebar": "Contents",
   "toc_cell": false,
   "toc_position": {},
   "toc_section_display": true,
   "toc_window_display": false
  }
 },
 "nbformat": 4,
 "nbformat_minor": 2
}
