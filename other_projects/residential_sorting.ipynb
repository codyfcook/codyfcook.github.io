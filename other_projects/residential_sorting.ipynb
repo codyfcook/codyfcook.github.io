{
 "cells": [
  {
   "cell_type": "markdown",
   "metadata": {},
   "source": [
    "# Residential Sorting by Gender"
   ]
  },
  {
   "cell_type": "markdown",
   "metadata": {},
   "source": [
    "US cities show remarkable sorting by gender -- men and women locate such that some neighborhoods skew strongly female while others skew strongly male. Consider the map of Cook County, IL (Chicago) shown in the figure below. Residents under the age of 18 appear to be randomly spread across the city, as one might expect given the coin flip that occurs for each birth. For adults, however, there is clear clustering in certain neighborhoods. The magnitudes are large; in the South and West of the city, many census tracts have up to 30% more women than men. \n",
    "\n",
    "<br>\n",
    "<center><i>Figure 1: female-to-male ratio, Chicago</i></center>\n",
    "<center><img src=\"images/chi.png\" width=\"550\"/></center>\n",
    "\n",
    "This is perhaps surprising and leads to many questions. Why do men and women live in different areas? Is it sorting for certain amenities, such as schools or access to restaurants? More importantly, how does it relate to economic outcomes/opportunities? Can any of the gaps in outcomes, like the gender wage gap, be explained by differences in proximity to opportunity? Are men and women equally geographically mobile and equally likely to move “up” to “better” areas?\n",
    "\n",
    "To the extent that residential locations affect economic outcomes, and the differences in men and women's locations are correlated with those outcomes, these differences in locations may explain gender differences in outcomes such as income. Past research has demonstrated the importance of residential location in determining economic opportunity and outcomes. The economic consequences of racial segregation have been well-studied; in general, studies find significantly worse outcomes for those living in highly segregated neighborhoods ([Cutler et al., 1999](https://www.jstor.org/stable/10.1086/250069#metadata_info_tab_contents); [Cutler and Glaeser, 1997](https://www.nber.org/papers/w13082)). A classic example of the effects of residential location is the Moving to Opportunity experiment in Boston: vouchers to move families from high-poverty projects to lower-poverty neighborhoods had large effects on young children, increasing college attendance and earnings and reducing single parenthood rates  ([Chetty et al., 2016](https://www.aeaweb.org/articles?id=10.1257/aer.20150572)). The experiment had less notable results for the adults: while mental, physical, and subjective well-being were greatly improved, there were no significant effects on earnings or unemployment ([Katz et al., 2001](https://academic.oup.com/qje/article/116/2/607/1904187); [Kling et al., 2007](https://onlinelibrary.wiley.com/doi/abs/10.1111/j.1468-0262.2007.00733.x)). More recently, [van Dijk (2019)](https://drive.google.com/file/d/1nxOHg4uKgVtRiyNjCjMq4ScsJo8uX97F/view) shows that a lottery for public housing in the Netherlands had positive labor market effects for poor individuals moving into high-income neighborhoods. \n",
    "\n",
    "In this post, I make no attempt to answer the *why* and simply show that this fact is ubiquous across cities, persistent over time, and driven by single adults. I also show that areas with more women are lower income, more racially segregated, have more educated women relative to the men, and have more single mothers. "
   ]
  },
  {
   "cell_type": "markdown",
   "metadata": {},
   "source": [
    "# Ubiquity"
   ]
  },
  {
   "cell_type": "markdown",
   "metadata": {},
   "source": [
    "I use Census tract level data from the 2010 US Census. This data is publically available; I downloaded it from [NHGIS](https://www.nhgis.org). On these and all other graphs, the coloring for indicating more male/female areas is standardized: the scale is centered at the mean with +/- 0.35 to decide the floor and the cap. This way relative differences in colors across maps are comparable, even when the mean shifts (e.g., in NYC, there is a higher mean ratio of women). \n",
    "\n",
    "In nearly all metro areas that I have looked at, there are areas that skew more male than female and vice versa. Below I plot the same ratio of female-to-male adult residents for NYC and the Bay Area. Manhattan and downtown SF, for example, both have substantially more men than women. The border between Queens and Brooklyn and the Presidio in SF have more women. \n",
    "\n",
    "<br>\n",
    "<center><i>Figure 2: NYC female-to-male ratio</i></center>\n",
    "<center><img src=\"images/nyc.png\" width=\"550\"/><center>\n",
    "    \n",
    "<br>\n",
    "<center><i>Figure 3: Bay Area female-to-male ratio</i></center>\n",
    "<center><img src=\"images/bayarea.png\" width=\"550\"/><center>"
   ]
  },
  {
   "cell_type": "markdown",
   "metadata": {},
   "source": [
    "### Dissimilarity index"
   ]
  },
  {
   "cell_type": "markdown",
   "metadata": {},
   "source": [
    "Looking at maps is fun, but difficult to scale to more cities. A common measure in sociology for measuring segregation is the dissimilarity index. The index answers \"what percentage of one group (e.g., men) would need to move in order for the distribution to be uniform.\" It is calculated as \n",
    "$$diss_g = 1-\\sum_g\\Big[\\frac{N_{m,g}}{N_m} - \\frac{N_{f,g}}{N_f}\\Big]$$ \n",
    "This allows for a more scalable method of looking at dissimilarity in many cities. \n",
    "\n",
    "<br>\n",
    "<center><i>Figure 4: Dissimilarity index</i></center>\n",
    "<img src=\"images/diss_cities.png\" width=\"550\"/>\n",
    "\n",
    "In general, dissimilarity increases quickly after age 18 and then flatlines. This masks substantial reshuffling between age groups, however -- some areas skew female for 18-24 and then male for older ages. Consider the following plots of NYC by different age groups. Manhattan changes from predominantly female for ages 18-35 to predominantly male for ages over 34. \n",
    "\n",
    "<br>\n",
    "<center><i>Figure 5: NYC female-to-male ratio, by age</i></center>\n",
    "<img src=\"images/nyc_age.png\" width=\"550\"/>"
   ]
  },
  {
   "cell_type": "markdown",
   "metadata": {},
   "source": [
    "# Persistence"
   ]
  },
  {
   "cell_type": "markdown",
   "metadata": {},
   "source": [
    "To examine changes over time, I use data from the 1950, 1980, and 2010 US Censuses and again plot the ratio of female to male residents in a given Census tract. Residential sorting by men and women is also not new, but the areas that skew male or female have changed over time in some cases.\n",
    "\n",
    "<br>\n",
    "<center><i>Figure 6: Chicago female-to-male ratio over time</i></center>\n",
    "<img src=\"images/chi_time.png\" width=\"550\"/>\n",
    "\n",
    "<br>\n",
    "<center><i>Figure 7: NYC female-to-male ratio over time</i></center>\n",
    "<img src=\"images/nyc_time.png\" width=\"550\"/>"
   ]
  },
  {
   "cell_type": "markdown",
   "metadata": {},
   "source": [
    "# Correlations"
   ]
  },
  {
   "cell_type": "markdown",
   "metadata": {},
   "source": [
    "## Marriage"
   ]
  },
  {
   "cell_type": "markdown",
   "metadata": {},
   "source": [
    "As you may expect, this trend is driven by single adults. Married couples show no such clustering -- given that the vast majority of marriages are between heterosexual couples, this result is unsurprising. \n",
    "\n",
    "<br>\n",
    "<center><i>Figure 8: Chicago female-to-male ratio, single vs. married adults</i></center>\n",
    "<img src=\"images/chi_single.png\" width=\"550\">\n",
    "\n",
    "What is surprising, however, is that the magnitudes discussed before are in fact substantially muted by the presence of married couples. Single adults show even stronger patterns in their residential choices than previously shown! "
   ]
  },
  {
   "cell_type": "markdown",
   "metadata": {},
   "source": [
    "## Incarceration"
   ]
  },
  {
   "cell_type": "markdown",
   "metadata": {
    "ExecuteTime": {
     "end_time": "2019-09-23T02:05:27.536909Z",
     "start_time": "2019-09-23T02:05:27.533188Z"
    }
   },
   "source": [
    "Men are incarcerated at much higher rates than women. As you may then expect, I find that areas with more women tend to have higher incarceration rates (measured as the percent of people who grew up in a Census tract who were incarcerated on April 1st, 2010). Incarceration data is available from the [Opportunity Atlas](https://www.opportunityatlas.org)\n",
    "\n",
    "<br>\n",
    "<center><i>Figure 9: Correlation: female-to-male and incarceration</i></center>\n",
    "<img src=\"images/incarc.png\" width=\"550\"/>\n",
    "\n",
    "However, incarceration alone cannot explain the differences in neighborhood location of men and women. To test this, I regress the ratio of men to women against incarceration rate: \n",
    "$$genderRatio_g \\sim incarcerationRate_g + \\epsilon_g$$ \n",
    "\n",
    "I plot both the predicted value and the residual below. Even after controlling for incarceration rates, there is substantial clustering by gender. \n",
    "\n",
    "<br>\n",
    "<center><i>Figure 10: Predicted and residual female-to-male ratio</i></center>\n",
    "<img src=\"images/incarc2.png\" width=\"550\"/>"
   ]
  },
  {
   "cell_type": "markdown",
   "metadata": {},
   "source": [
    "## Income, Education, and Family Structure"
   ]
  },
  {
   "cell_type": "markdown",
   "metadata": {},
   "source": [
    "Areas with more women tend to be lower income and have more single mothers (which is of course, at least partly mechanical). They also tend to be lower education; however, the *relative* education of women to men in the area is higher. That is, in an area with very few men, the ones that remain are less educated than the women in that area. \n",
    "\n",
    "Each plot below is a 'binscatter' of the relationship between the ratio of female-to-male and the relevant covariate. Binscatters include a point for the average Y-value for each mod-5 percentile (e.g., 5th, 10th, ...) of the X-variable. A regression line is also plotted. For the US-level binscatter, I control for county fixed effects: the relationship can then be interpreted as the average relationship within counties, rather than comparing across counties."
   ]
  },
  {
   "cell_type": "markdown",
   "metadata": {
    "ExecuteTime": {
     "end_time": "2019-09-23T02:18:41.830283Z",
     "start_time": "2019-09-23T02:18:41.826968Z"
    }
   },
   "source": [
    "<br>\n",
    "<center><i>Figure 10: Correlation: female-to-male and household income</i></center>\n",
    "<img src=\"images/corr_income.png\" width=\"550\"/>\n",
    "<br>\n",
    "<center><i>Figure 11: Correlation: female-to-male and single motherhood</i></center>\n",
    "<img src=\"images/corr_single_mothers.png\" width=\"550\"/>\n",
    "<br>\n",
    "<center><i>Figure 12: Correlation: female-to-male and relative HS diploma rate</i></center>\n",
    "<img src=\"images/corr_hs.png\" width=\"550\"/>\n",
    "<br>\n",
    "<center><i>Figure 13: Correlation: female-to-male and relative College attendance</i></center>\n",
    "<img src=\"images/corr_college.png\" width=\"550\"/>"
   ]
  },
  {
   "cell_type": "markdown",
   "metadata": {},
   "source": [
    "## Racial Segregation\n",
    "Areas with more women also tend to have relatively more Black residents than White. \n",
    "\n",
    "<br>\n",
    "<center><i>Figure 14: Correlation: female-to-male and racial segregation</i></center>\n",
    "<img src=\"images/corr_racial_seg.png\" width=\"550\"/>"
   ]
  },
  {
   "cell_type": "markdown",
   "metadata": {},
   "source": [
    "# Conclusion\n",
    " \n",
    "This project documents an interesting fact: single men and women live in different locations, and these locations tend to be lower income and more racially segregated. \n",
    "\n",
    "It remains to be explained what are the causes that lead to this fact. One possible answer is that it is simply the retelling of many facts that we already know -- e.g., we already know that young men are incarcerated at far higher rates and that incarceration rates vary by geography. While incarceration alone cannot fully explain the clustering by gender, perhaps similar \"known\" facts can, such as residential clustering by industry of work. \n",
    "\n",
    "On plausible path forward would be to build a residential sorting model, perhaps in the style of [Bayer et al (2016)](https://onlinelibrary.wiley.com/doi/abs/10.3982/ECTA10170), and estimate it separately for men and women. "
   ]
  }
 ],
 "metadata": {
  "kernelspec": {
   "display_name": "Python 3",
   "language": "python",
   "name": "python3"
  },
  "language_info": {
   "codemirror_mode": {
    "name": "ipython",
    "version": 3
   },
   "file_extension": ".py",
   "mimetype": "text/x-python",
   "name": "python",
   "nbconvert_exporter": "python",
   "pygments_lexer": "ipython3",
   "version": "3.7.4"
  },
  "toc": {
   "base_numbering": 1,
   "nav_menu": {},
   "number_sections": false,
   "sideBar": false,
   "skip_h1_title": false,
   "title_cell": "Table of Contents",
   "title_sidebar": "Contents",
   "toc_cell": false,
   "toc_position": {},
   "toc_section_display": true,
   "toc_window_display": false
  }
 },
 "nbformat": 4,
 "nbformat_minor": 2
}
